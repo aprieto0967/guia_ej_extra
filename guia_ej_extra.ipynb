{
 "cells": [
  {
   "cell_type": "markdown",
   "metadata": {},
   "source": [
    "Ejercicio 1.1. Escribir un programa que pregunte al usuario:\n",
    "a) su nombre, y luego lo salude.\n",
    "b) dos números y luego muestre el producto."
   ]
  },
  {
   "cell_type": "code",
   "execution_count": 1,
   "metadata": {},
   "outputs": [
    {
     "name": "stdout",
     "output_type": "stream",
     "text": [
      "Hola Agustín\n",
      "El producto entre ambos números es: 81\n"
     ]
    }
   ],
   "source": [
    "nombre_usuario = input(\"Ingrese su nombre por favor:\")\n",
    "print(\"Hola\", nombre_usuario)\n",
    "numero1 = int(input(\"Ingrese un número:\"))\n",
    "numero2 = int(input(\"Ingrese otro número:\"))\n",
    "print(\"El producto entre ambos números es:\", numero1*numero2)\n"
   ]
  },
  {
   "attachments": {},
   "cell_type": "markdown",
   "metadata": {},
   "source": [
    "Ejercicio 1.2. Implementar algoritmos que permitan:\n",
    "a) Calcular el perímetro y área de un rectángulo dada su base y su altura.\n",
    "b) Calcular el perímetro y área de un círculo dado su radio.\n",
    "c) Calcular el volumen de una esfera dado su radio.\n",
    "d) Calcular el área de un rectángulo (alineado con los ejes x e y) dadas sus coordenadas x1,x2,y1,y2.\n",
    "e) Dados los catetos de un triángulo rectángulo, calcular su hipotenusa."
   ]
  },
  {
   "cell_type": "code",
   "execution_count": 6,
   "metadata": {},
   "outputs": [
    {
     "name": "stdout",
     "output_type": "stream",
     "text": [
      "El perímetro del rectángulo es 60\n",
      "Y el área del rectángulo es 100\n"
     ]
    }
   ],
   "source": [
    "base = int(input(\"Ingrese la base de un rectángulo:\"))\n",
    "altura = int(input(\"Ahora ingrese su altura:\"))\n",
    "print(\"El perímetro del rectángulo es\", base*2+altura*2)\n",
    "print(\"Y el área del rectángulo es\", int((base*altura)/2))\n"
   ]
  },
  {
   "cell_type": "code",
   "execution_count": 10,
   "metadata": {},
   "outputs": [
    {
     "name": "stdout",
     "output_type": "stream",
     "text": [
      "El perímetro del círculo es 18.84\n",
      "El área del círculo es 28.26\n"
     ]
    }
   ],
   "source": [
    "radio = int(input(\"Ingrese el radio de un círculo:\"))\n",
    "print(\"El perímetro del círculo es\", 2*3.14*radio)\n",
    "print(\"El área del círculo es\", 3.14*(radio**2))"
   ]
  },
  {
   "cell_type": "code",
   "execution_count": 12,
   "metadata": {},
   "outputs": [
    {
     "name": "stdout",
     "output_type": "stream",
     "text": [
      "El volumen de la esfera es 113\n"
     ]
    }
   ],
   "source": [
    "radio = int(input(\"Ingrese el radio de una esfera:\"))\n",
    "print(\"El volumen de la esfera es\", int((4/3)*3.14*(radio**3)))\n",
    "\n"
   ]
  },
  {
   "cell_type": "code",
   "execution_count": 14,
   "metadata": {},
   "outputs": [
    {
     "name": "stdout",
     "output_type": "stream",
     "text": [
      "El área del rectángulo es 14\n"
     ]
    }
   ],
   "source": [
    "x1 = int(input(\"Ingrese la coordenada x1 de un rectángulo:\"))\n",
    "x2 = int(input(\"Ingrese la coordenada x2 de un rectángulo:\"))\n",
    "y1 = int(input(\"Ingrese la coordenada y1 de un rectángulo:\"))\n",
    "y2 = int(input(\"Ingrese la coordenada y2 de un rectángulo:\"))\n",
    "base = abs(x1-x2)\n",
    "altura = abs(y1-y2)\n",
    "print(\"El área del rectángulo es\", int((base*altura)/2))"
   ]
  },
  {
   "cell_type": "code",
   "execution_count": 25,
   "metadata": {},
   "outputs": [
    {
     "name": "stdout",
     "output_type": "stream",
     "text": [
      "La hipotenusa del triángulo es 5.83\n"
     ]
    }
   ],
   "source": [
    "import math\n",
    "cateto_menor = int(input(\"Ingrese el cateto menor de un triángulo rectángulo:\"))\n",
    "cateto_mayor = int(input(\"Ahora ingrese su cateto mayor:\"))\n",
    "print(\"La hipotenusa del triángulo es\", round(float(math.sqrt(((cateto_menor**2)+(cateto_mayor**2)))),2))"
   ]
  }
 ],
 "metadata": {
  "kernelspec": {
   "display_name": "Python 3",
   "language": "python",
   "name": "python3"
  },
  "language_info": {
   "codemirror_mode": {
    "name": "ipython",
    "version": 3
   },
   "file_extension": ".py",
   "mimetype": "text/x-python",
   "name": "python",
   "nbconvert_exporter": "python",
   "pygments_lexer": "ipython3",
   "version": "3.10.7"
  },
  "orig_nbformat": 4,
  "vscode": {
   "interpreter": {
    "hash": "5e1b746e8d9827ab466e5577a73b7235c7aed905377e46eefdcbbcac0071b37a"
   }
  }
 },
 "nbformat": 4,
 "nbformat_minor": 2
}
